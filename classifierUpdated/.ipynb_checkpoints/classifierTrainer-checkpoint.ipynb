{
 "cells": [
  {
   "cell_type": "code",
   "execution_count": 1,
   "metadata": {
    "collapsed": true
   },
   "outputs": [],
   "source": [
    "import codecs, os, pickle, csv\n",
    "import pandas as pd\n",
    "from sklearn.feature_extraction.text import CountVectorizer\n",
    "from sklearn.naive_bayes import MultinomialNB\n",
    "from sklearn import metrics\n",
    "from nltk import word_tokenize\n",
    "from nltk.stem import WordNetLemmatizer\n",
    "class LemmaTokenizer(object):\n",
    "    def __init__(self):\n",
    "        self.wnl = WordNetLemmatizer()\n",
    "    def __call__(self, doc):\n",
    "        return [self.wnl.lemmatize(t) for t in word_tokenize(doc)]"
   ]
  },
  {
   "cell_type": "code",
   "execution_count": 2,
   "metadata": {
    "collapsed": false
   },
   "outputs": [],
   "source": [
    "os.chdir('../data/scrape/scraped/')\n",
    "m = codecs.open('master.csv', 'r', encoding='utf-8', errors='ignore')\n",
    "master = pd.read_csv(m)"
   ]
  },
  {
   "cell_type": "code",
   "execution_count": 3,
   "metadata": {
    "collapsed": true
   },
   "outputs": [],
   "source": [
    "train = master.sample(frac=0.9,random_state=200)\n",
    "test = master.drop(train.index)"
   ]
  },
  {
   "cell_type": "code",
   "execution_count": 3,
   "metadata": {
    "collapsed": true
   },
   "outputs": [],
   "source": [
    "masterTuples = [list(x) for x in master.values]"
   ]
  },
  {
   "cell_type": "code",
   "execution_count": 4,
   "metadata": {
    "collapsed": true
   },
   "outputs": [],
   "source": [
    "trainTuples = [list(x) for x in train.values]\n",
    "testTuples = [list(x) for x in train.values]"
   ]
  },
  {
   "cell_type": "code",
   "execution_count": 4,
   "metadata": {
    "collapsed": true
   },
   "outputs": [],
   "source": [
    "def getStopWordList(stopWordListFileName):\n",
    "    stopwords = []\n",
    "    \n",
    "    fp = open(stopWordListFileName, 'r')\n",
    "    line = fp.readline()\n",
    "    while line:\n",
    "        word = line.strip()\n",
    "        stopWords.append(word)\n",
    "        line = fp.readline()\n",
    "    fp.close()\n",
    "    return stopWords\n",
    "\n",
    "stopWords = []\n",
    "st = open('../../stopwords.txt', 'r')\n",
    "stopWords = getStopWordList('../../stopwords.txt')"
   ]
  },
  {
   "cell_type": "code",
   "execution_count": 5,
   "metadata": {
    "collapsed": false
   },
   "outputs": [
    {
     "data": {
      "text/plain": [
       "MultinomialNB(alpha=1.0, class_prior=None, fit_prior=True)"
      ]
     },
     "execution_count": 5,
     "metadata": {},
     "output_type": "execute_result"
    }
   ],
   "source": [
    "vectorizer = CountVectorizer(stop_words=stopWords)\n",
    "master_features = vectorizer.fit_transform(master['quote'].values.astype(str))\n",
    "\n",
    "#train_features = vectorizer.fit_transform(train['quote'].values.astype(str))\n",
    "#test_features = vectorizer.transform(test['quote'].values.astype(str))\n",
    "\n",
    "nb = MultinomialNB()\n",
    "nb.fit(master_features, master['atmosphere'].values.astype(str))\n",
    "\n",
    "#nb.fit(train_features, train['atmosphere'].values.astype(str))\n",
    "#predictions = nb.predict(test_features)\n",
    "\n",
    "#actual = test['atmosphere'].values.astype(str)"
   ]
  },
  {
   "cell_type": "code",
   "execution_count": 7,
   "metadata": {
    "collapsed": false
   },
   "outputs": [
    {
     "name": "stdout",
     "output_type": "stream",
     "text": [
      "Accuracy:  0.535145726182\n"
     ]
    }
   ],
   "source": [
    "acc = metrics.accuracy_score(actual, predictions)\n",
    "print(\"Accuracy: \", acc)"
   ]
  },
  {
   "cell_type": "code",
   "execution_count": 10,
   "metadata": {
    "collapsed": false
   },
   "outputs": [
    {
     "data": {
      "text/plain": [
       "array(['sadness', 'fight', 'peaceful'], \n",
       "      dtype='<U11')"
      ]
     },
     "execution_count": 10,
     "metadata": {},
     "output_type": "execute_result"
    }
   ],
   "source": [
    "testSent = ['she died later that night', 'i kicked it', 'the spa was so relaxing']\n",
    "testSentFeatures = vectorizer.transform(testSent)\n",
    "nb.predict(testSentFeatures)"
   ]
  },
  {
   "cell_type": "code",
   "execution_count": 6,
   "metadata": {
    "collapsed": true
   },
   "outputs": [],
   "source": [
    "savedClassifier = open('savedNBClassifier2.pkl', 'wb')\n",
    "pickle.dump(nb, savedClassifier)\n",
    "pickle.dump(vectorizer, savedClassifier)\n",
    "savedClassifier.close()"
   ]
  },
  {
   "cell_type": "code",
   "execution_count": 14,
   "metadata": {
    "collapsed": true
   },
   "outputs": [],
   "source": [
    "savedClassifier = open('savedNBClassifier.pkl', 'rb')\n",
    "classer = pickle.load(savedClassifier)\n",
    "vectorer = pickle.load(savedClassifier)\n",
    "savedClassifier.close()"
   ]
  },
  {
   "cell_type": "code",
   "execution_count": 15,
   "metadata": {
    "collapsed": false
   },
   "outputs": [
    {
     "data": {
      "text/plain": [
       "array(['sadness', 'fight', 'peaceful'], \n",
       "      dtype='<U11')"
      ]
     },
     "execution_count": 15,
     "metadata": {},
     "output_type": "execute_result"
    }
   ],
   "source": [
    "testSent = ['she died later that night', 'i kicked it', 'the spa was so relaxing']\n",
    "testSentFeatures = vectorer.transform(testSent)\n",
    "classer.predict(testSentFeatures)"
   ]
  },
  {
   "cell_type": "code",
   "execution_count": null,
   "metadata": {
    "collapsed": true
   },
   "outputs": [],
   "source": []
  }
 ],
 "metadata": {
  "kernelspec": {
   "display_name": "Python 3",
   "language": "python",
   "name": "python3"
  },
  "language_info": {
   "codemirror_mode": {
    "name": "ipython",
    "version": 3
   },
   "file_extension": ".py",
   "mimetype": "text/x-python",
   "name": "python",
   "nbconvert_exporter": "python",
   "pygments_lexer": "ipython3",
   "version": "3.5.2"
  }
 },
 "nbformat": 4,
 "nbformat_minor": 0
}
